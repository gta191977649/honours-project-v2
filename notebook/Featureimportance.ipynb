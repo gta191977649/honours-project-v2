{
 "cells": [
  {
   "cell_type": "markdown",
   "metadata": {},
   "source": [
    "# Valance"
   ]
  },
  {
   "cell_type": "code",
   "execution_count": null,
   "metadata": {},
   "outputs": [],
   "source": [
    "import pandas as pd\n",
    "from sklearn.model_selection import train_test_split\n",
    "from sklearn.ensemble import RandomForestRegressor\n",
    "from rfpimp import *\n",
    "\n",
    "PATH_DATA_SET = 'D:/dev/honours-project-v2/dataset/dataset_nor_zsocre.csv'\n",
    "dataset = pd.read_csv(PATH_DATA_SET)\n",
    "data_x = dataset.loc[:,'F0final_sma_stddev':'pcm_fftMag_mfcc_sma_de[14]_amean']\n",
    "data_valance_y = dataset.loc[:,'v']\n",
    "data_arousal_y = dataset.loc[:,'a']\n",
    "\n",
    "train_x, test_x, train_y, test_y = train_test_split(data_x, data_valance_y, test_size=0.20, shuffle=True)\n",
    "\n",
    "print(\"Run RandomForestRegressor\")\n",
    "RFR = RandomForestRegressor(bootstrap=True, criterion='mse', max_depth=2,\n",
    "           max_features='auto', max_leaf_nodes=None,\n",
    "           min_impurity_decrease=0.0, min_impurity_split=None,\n",
    "           min_samples_leaf=1, min_samples_split=2,\n",
    "           min_weight_fraction_leaf=0.0, n_estimators=1000, n_jobs=100,\n",
    "           oob_score=False, random_state=0, verbose=0, warm_start=False,)\n",
    "RFR.fit(train_x,train_y)\n",
    "score = RFR.score(test_x, test_y)\n",
    "print(\"SCORE:{}\".format(score))\n",
    "\n",
    "imp = importances(RFR, test_x, test_y) # permutation\n",
    "viz = plot_importances(imp)\n",
    "viz.save('./valance_importance.svg')\n",
    "viz"
   ]
  },
  {
   "cell_type": "code",
   "execution_count": null,
   "metadata": {},
   "outputs": [],
   "source": []
  },
  {
   "cell_type": "markdown",
   "metadata": {},
   "source": [
    "# Arousal"
   ]
  },
  {
   "cell_type": "code",
   "execution_count": null,
   "metadata": {},
   "outputs": [],
   "source": [
    "import pandas as pd\n",
    "from sklearn.model_selection import train_test_split\n",
    "from sklearn.ensemble import RandomForestRegressor\n",
    "from rfpimp import *\n",
    "from sklearn.svm import SVR\n",
    "\n",
    "PATH_DATA_SET = 'D:/dev/honours-project-v2/dataset/dataset_nor_zsocre.csv'\n",
    "dataset = pd.read_csv(PATH_DATA_SET)\n",
    "data_x = dataset.loc[:,'F0final_sma_stddev':'pcm_fftMag_mfcc_sma_de[14]_amean']\n",
    "data_valance_y = dataset.loc[:,'v']\n",
    "data_arousal_y = dataset.loc[:,'a']\n",
    "\n",
    "train_x, test_x, train_y, test_y = train_test_split(data_x, data_arousal_y, test_size=0.20, shuffle=True)\n",
    "\n",
    "print(\"Run RandomForestRegressor\")\n",
    "RFR = RandomForestRegressor(bootstrap=True, criterion='mse', max_depth=2,\n",
    "           max_features='auto', max_leaf_nodes=None,\n",
    "           min_impurity_decrease=0.0, min_impurity_split=None,\n",
    "           min_samples_leaf=1, min_samples_split=2,\n",
    "           min_weight_fraction_leaf=0.0, n_estimators=1000, n_jobs=100,\n",
    "           oob_score=False, random_state=0, verbose=0, warm_start=False,)\n",
    "RFR.fit(train_x,train_y)\n",
    "score = RFR.score(test_x, test_y)\n",
    "print(\"SCORE:{}\".format(score))\n",
    "\n",
    "imp = importances(RFR, test_x, test_y) # permutation\n",
    "viz = plot_importances(imp)\n",
    "viz.save('./arousal_importance.svg')\n",
    "viz"
   ]
  },
  {
   "cell_type": "markdown",
   "metadata": {},
   "source": [
    "# Recursive feature elimination with cross-validation (RFE)"
   ]
  },
  {
   "cell_type": "code",
   "execution_count": null,
   "metadata": {},
   "outputs": [],
   "source": [
    "import matplotlib.pyplot as plt\n",
    "import pandas as pd\n",
    "\n",
    "from sklearn.feature_selection import RFE\n",
    "from sklearn.model_selection import train_test_split\n",
    "from sklearn.ensemble import RandomForestRegressor\n",
    "from rfpimp import *\n",
    "from sklearn.svm import SVR\n",
    "from sklearn.model_selection import StratifiedKFold\n",
    "\n",
    "PATH_DATA_SET = 'D:/dev/honours-project-v2/dataset/dataset_nor_zsocre.csv'\n",
    "dataset = pd.read_csv(PATH_DATA_SET)\n",
    "data_x = dataset.loc[:,'F0final_sma_stddev':'pcm_fftMag_mfcc_sma_de[14]_amean']\n",
    "data_valance_y = dataset.loc[:,'v']\n",
    "data_arousal_y = dataset.loc[:,'a']\n",
    "\n",
    "#train_x, test_x, train_y, test_y = train_test_split(data_x, data_valance_y, test_size=0.20, shuffle=True)\n",
    "\n",
    "#SVR Regressor\n",
    "svr = SVR(kernel=\"linear\")\n",
    "#svr.fit(data_x,data_valance_y)\n",
    "\n",
    "rfe = RFE(svr, 5, step=1)\n",
    "rfe.fit(data_x, data_valance_y)    \n",
    "\n",
    "print(\"Optimal number of features : %d\" % rfecv.n_features_)\n",
    "\n",
    "# Plot number of features VS. cross-validation scores\n",
    "plt.figure()\n",
    "plt.xlabel(\"Number of features selected\")\n",
    "plt.ylabel(\"Cross validation score (nb of correct classifications)\")\n",
    "plt.plot(range(1, len(rfe.grid_scores_) + 1), rfe.grid_scores_)\n",
    "plt.show()\n"
   ]
  },
  {
   "cell_type": "code",
   "execution_count": null,
   "metadata": {},
   "outputs": [],
   "source": []
  }
 ],
 "metadata": {
  "kernelspec": {
   "display_name": "Python 3",
   "language": "python",
   "name": "python3"
  },
  "language_info": {
   "codemirror_mode": {
    "name": "ipython",
    "version": 3
   },
   "file_extension": ".py",
   "mimetype": "text/x-python",
   "name": "python",
   "nbconvert_exporter": "python",
   "pygments_lexer": "ipython3",
   "version": "3.7.4"
  }
 },
 "nbformat": 4,
 "nbformat_minor": 2
}
