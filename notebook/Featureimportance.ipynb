{
 "cells": [
  {
   "cell_type": "markdown",
   "metadata": {},
   "source": [
    "# Valance"
   ]
  },
  {
   "cell_type": "code",
   "execution_count": null,
   "metadata": {},
   "outputs": [],
   "source": [
    "import pandas as pd\n",
    "from sklearn.model_selection import train_test_split\n",
    "from sklearn.ensemble import RandomForestRegressor\n",
    "from rfpimp import *\n",
    "\n",
    "PATH_DATA_SET = 'D:/dev/honours-project-v2/dataset/dataset_nor_zsocre.csv'\n",
    "dataset = pd.read_csv(PATH_DATA_SET)\n",
    "data_x = dataset.loc[:,'F0final_sma_stddev':'pcm_fftMag_mfcc_sma_de[14]_amean']\n",
    "data_valance_y = dataset.loc[:,'v']\n",
    "data_arousal_y = dataset.loc[:,'a']\n",
    "\n",
    "train_x, test_x, train_y, test_y = train_test_split(data_x, data_valance_y, test_size=0.20, shuffle=True)\n",
    "\n",
    "print(\"Run RandomForestRegressor\")\n",
    "RFR = RandomForestRegressor(bootstrap=True, criterion='mse', max_depth=2,\n",
    "           max_features='auto', max_leaf_nodes=None,\n",
    "           min_impurity_decrease=0.0, min_impurity_split=None,\n",
    "           min_samples_leaf=1, min_samples_split=2,\n",
    "           min_weight_fraction_leaf=0.0, n_estimators=1000, n_jobs=100,\n",
    "           oob_score=False, random_state=0, verbose=0, warm_start=False,)\n",
    "RFR.fit(train_x,train_y)\n",
    "score = RFR.score(test_x, test_y)\n",
    "print(\"SCORE:{}\".format(score))\n",
    "\n",
    "imp = importances(RFR, test_x, test_y) # permutation\n",
    "viz = plot_importances(imp)\n",
    "viz.save('./valance_importance.svg')\n",
    "viz"
   ]
  },
  {
   "cell_type": "code",
   "execution_count": null,
   "metadata": {},
   "outputs": [],
   "source": []
  },
  {
   "cell_type": "markdown",
   "metadata": {},
   "source": [
    "# Arousal"
   ]
  },
  {
   "cell_type": "code",
   "execution_count": null,
   "metadata": {},
   "outputs": [],
   "source": [
    "import pandas as pd\n",
    "from sklearn.model_selection import train_test_split\n",
    "from sklearn.ensemble import RandomForestRegressor\n",
    "from rfpimp import *\n",
    "from sklearn.svm import SVR\n",
    "\n",
    "PATH_DATA_SET = 'D:/dev/honours-project-v2/dataset/dataset_nor_zsocre.csv'\n",
    "dataset = pd.read_csv(PATH_DATA_SET)\n",
    "data_x = dataset.loc[:,'F0final_sma_stddev':'pcm_fftMag_mfcc_sma_de[14]_amean']\n",
    "data_valance_y = dataset.loc[:,'v']\n",
    "data_arousal_y = dataset.loc[:,'a']\n",
    "\n",
    "train_x, test_x, train_y, test_y = train_test_split(data_x, data_arousal_y, test_size=0.20, shuffle=True)\n",
    "\n",
    "print(\"Run RandomForestRegressor\")\n",
    "RFR = RandomForestRegressor(bootstrap=True, criterion='mse', max_depth=2,\n",
    "           max_features='auto', max_leaf_nodes=None,\n",
    "           min_impurity_decrease=0.0, min_impurity_split=None,\n",
    "           min_samples_leaf=1, min_samples_split=2,\n",
    "           min_weight_fraction_leaf=0.0, n_estimators=1000, n_jobs=100,\n",
    "           oob_score=False, random_state=0, verbose=0, warm_start=False,)\n",
    "RFR.fit(train_x,train_y)\n",
    "score = RFR.score(test_x, test_y)\n",
    "print(\"SCORE:{}\".format(score))\n",
    "\n",
    "imp = importances(RFR, test_x, test_y) # permutation\n",
    "viz = plot_importances(imp)\n",
    "viz.save('./arousal_importance.svg')\n",
    "viz"
   ]
  },
  {
   "cell_type": "markdown",
   "metadata": {},
   "source": [
    "# Recursive feature elimination (RFE)"
   ]
  },
  {
   "cell_type": "code",
   "execution_count": 2,
   "metadata": {},
   "outputs": [
    {
     "name": "stdout",
     "output_type": "stream",
     "text": [
      "Optimal number of features : 1\n",
      "[False False False False False False False False False False False False\n",
      " False False False False False False False False False False False False\n",
      " False False False False False False False False False False False False\n",
      " False False False False False False False False False False False False\n",
      " False False False False False False False False False False False False\n",
      " False False False False False False False False False False False False\n",
      " False False False False False False False False False False False False\n",
      " False False False False False False False False False False False False\n",
      " False False False False False False False False False False False False\n",
      " False False False False False False False False False False False False\n",
      " False False False False False False False False False False False False\n",
      " False False False False False False False False False False False False\n",
      " False False  True False False False False False False False False False\n",
      " False False False False False False False False False False False False\n",
      " False False False False False False False False False False False False\n",
      " False False False False False False False False False False False False\n",
      " False False False False False False False False False False False False\n",
      " False False False False False False False False False False False False\n",
      " False False False False False False False False False False False False\n",
      " False False False False False False False False False False False False\n",
      " False False False False False False False False False False False False\n",
      " False False False False False False False False]\n",
      "[124  54 135  84  35 176  22 113   2  48  15  63  98 251 110 242  47 259\n",
      " 211  93 198 186 171 181 118 153 121 166 226 245 212 240 210 241 190 215\n",
      " 252 250 229 258 194 254 244 207 227 220 248 236 257 217 145 233 125 239\n",
      "  74 189  60 169  56 157  77 209  51 140  46 143  65 155  70 152  89 146\n",
      " 134 148 218 256 144 175 131 260 123 208 164 130  14 117 137 158  58 216\n",
      " 253 141 192 167 174 188 107 237 133 222 160 249  32  53 165 126 103 154\n",
      " 156  20 206 129 196  43  96 197 159  69 161  30  79   6 114  24 255  23\n",
      " 201  26  87  10 147  66 102 214  36   7  29 223   8  37  18 108 185 224\n",
      " 228 177   1  27 112 243 162  12 122  40  83  38  94   9 187 111 247 202\n",
      " 213 246 191  82 230  75 195 138 232 234 183 128 151 127 193  16 173 204\n",
      " 235  71 231  45 205  52 150 106 120 149 184 199 105  59 132 100 136  68\n",
      " 163 178 170 172  67   5 238  17  88  28  97  76  86  31  80  91  11   3\n",
      "  73  44  34  57 182 179 221  25 203  42  49  81  64  21  99 139 219 225\n",
      "  50  41 142  13  72   4  90  39 104  62 109  19  85  61  95 116  55  92\n",
      "  78  33 200 180 115 119 168 101]\n",
      "Features sorted by their rank:\n",
      "[(1, 'pcm_RMSenergy_sma_de_stddev'), (2, 'shimmerLocal_sma_stddev'), (3, 'pcm_fftMag_spectralFlux_sma_de_amean'), (4, 'pcm_fftMag_mfcc_sma_de[4]_amean'), (5, 'pcm_fftMag_fband250-650_sma_de_amean'), (6, 'pcm_fftMag_mfcc_sma[10]_amean'), (7, 'jitterLocal_sma_de_amean'), (8, 'shimmerLocal_sma_de_stddev'), (9, 'audSpec_Rfilt_sma_de[3]_amean'), (10, 'pcm_fftMag_mfcc_sma[14]_amean'), (11, 'pcm_fftMag_spectralFlux_sma_de_stddev'), (12, 'audSpec_Rfilt_sma_de[0]_amean'), (13, 'pcm_fftMag_mfcc_sma_de[3]_amean'), (14, 'pcm_fftMag_spectralFlux_sma_stddev'), (15, 'logHNR_sma_stddev'), (16, 'audSpec_Rfilt_sma_de[13]_amean'), (17, 'pcm_fftMag_fband1000-4000_sma_de_amean'), (18, 'logHNR_sma_de_stddev'), (19, 'pcm_fftMag_mfcc_sma_de[7]_amean'), (20, 'pcm_fftMag_mfcc_sma[4]_amean'), (21, 'pcm_fftMag_psySharpness_sma_de_amean'), (22, 'jitterDDP_sma_stddev'), (23, 'pcm_fftMag_mfcc_sma[12]_amean'), (24, 'pcm_fftMag_mfcc_sma[11]_amean'), (25, 'pcm_fftMag_spectralSkewness_sma_de_amean'), (26, 'pcm_fftMag_mfcc_sma[13]_amean'), (27, 'pcm_RMSenergy_sma_de_amean'), (28, 'pcm_fftMag_spectralRollOff25.0_sma_de_amean'), (29, 'jitterDDP_sma_de_stddev'), (30, 'pcm_fftMag_mfcc_sma[9]_amean'), (31, 'pcm_fftMag_spectralRollOff75.0_sma_de_amean'), (32, 'pcm_fftMag_mfcc_sma[1]_stddev'), (33, 'pcm_fftMag_mfcc_sma_de[11]_amean'), (34, 'pcm_fftMag_spectralEntropy_sma_de_stddev'), (35, 'jitterLocal_sma_stddev'), (36, 'jitterLocal_sma_de_stddev'), (37, 'shimmerLocal_sma_de_amean'), (38, 'audSpec_Rfilt_sma_de[2]_amean'), (39, 'pcm_fftMag_mfcc_sma_de[5]_amean'), (40, 'audSpec_Rfilt_sma_de[1]_amean'), (41, 'pcm_fftMag_mfcc_sma_de[2]_amean'), (42, 'pcm_fftMag_spectralKurtosis_sma_de_amean'), (43, 'pcm_fftMag_mfcc_sma[6]_amean'), (44, 'pcm_fftMag_spectralCentroid_sma_de_amean'), (45, 'audSpec_Rfilt_sma_de[16]_amean'), (46, 'audSpec_Rfilt_sma[22]_stddev'), (47, 'pcm_RMSenergy_sma_stddev'), (48, 'shimmerLocal_sma_amean'), (49, 'pcm_fftMag_spectralSlope_sma_de_stddev'), (50, 'pcm_fftMag_mfcc_sma_de[2]_stddev'), (51, 'audSpec_Rfilt_sma[21]_stddev'), (52, 'audSpec_Rfilt_sma_de[17]_amean'), (53, 'pcm_fftMag_mfcc_sma[1]_amean'), (54, 'F0final_sma_amean'), (55, 'pcm_fftMag_mfcc_sma_de[10]_stddev'), (56, 'audSpec_Rfilt_sma[19]_stddev'), (57, 'pcm_fftMag_spectralEntropy_sma_de_amean'), (58, 'pcm_fftMag_spectralEntropy_sma_stddev'), (59, 'audSpec_Rfilt_sma_de[21]_amean'), (60, 'audSpec_Rfilt_sma[18]_stddev'), (61, 'pcm_fftMag_mfcc_sma_de[8]_amean'), (62, 'pcm_fftMag_mfcc_sma_de[6]_amean'), (63, 'logHNR_sma_amean'), (64, 'pcm_fftMag_psySharpness_sma_de_stddev'), (65, 'audSpec_Rfilt_sma[23]_stddev'), (66, 'F0final_sma_de_amean'), (67, 'pcm_fftMag_fband250-650_sma_de_stddev'), (68, 'audSpec_Rfilt_sma_de[23]_amean'), (69, 'pcm_fftMag_mfcc_sma[8]_amean'), (70, 'audSpec_Rfilt_sma[24]_stddev'), (71, 'audSpec_Rfilt_sma_de[15]_amean'), (72, 'pcm_fftMag_mfcc_sma_de[4]_stddev'), (73, 'pcm_fftMag_spectralCentroid_sma_de_stddev'), (74, 'audSpec_Rfilt_sma[17]_stddev'), (75, 'audSpec_Rfilt_sma_de[8]_amean'), (76, 'pcm_fftMag_spectralRollOff50.0_sma_de_amean'), (77, 'audSpec_Rfilt_sma[20]_stddev'), (78, 'pcm_fftMag_mfcc_sma_de[11]_stddev'), (79, 'pcm_fftMag_mfcc_sma[10]_stddev'), (80, 'pcm_fftMag_spectralRollOff90.0_sma_de_stddev'), (81, 'pcm_fftMag_spectralSlope_sma_de_amean'), (82, 'audSpec_Rfilt_sma_de[7]_amean'), (83, 'audSpec_Rfilt_sma_de[2]_stddev'), (84, 'voicingFinalUnclipped_sma_amean'), (85, 'pcm_fftMag_mfcc_sma_de[8]_stddev'), (86, 'pcm_fftMag_spectralRollOff75.0_sma_de_stddev'), (87, 'pcm_fftMag_mfcc_sma[14]_stddev'), (88, 'pcm_fftMag_spectralRollOff25.0_sma_de_stddev'), (89, 'audSpec_Rfilt_sma[25]_stddev'), (90, 'pcm_fftMag_mfcc_sma_de[5]_stddev'), (91, 'pcm_fftMag_spectralRollOff90.0_sma_de_amean'), (92, 'pcm_fftMag_mfcc_sma_de[10]_amean'), (93, 'pcm_zcr_sma_amean'), (94, 'audSpec_Rfilt_sma_de[3]_stddev'), (95, 'pcm_fftMag_mfcc_sma_de[9]_stddev'), (96, 'pcm_fftMag_mfcc_sma[7]_stddev'), (97, 'pcm_fftMag_spectralRollOff50.0_sma_de_stddev'), (98, 'audspec_lengthL1norm_sma_stddev'), (99, 'pcm_fftMag_spectralHarmonicity_sma_de_stddev'), (100, 'audSpec_Rfilt_sma_de[22]_amean'), (101, 'pcm_fftMag_mfcc_sma_de[14]_amean'), (102, 'voicingFinalUnclipped_sma_de_stddev'), (103, 'pcm_fftMag_mfcc_sma[3]_stddev'), (104, 'pcm_fftMag_mfcc_sma_de[6]_stddev'), (105, 'audSpec_Rfilt_sma_de[21]_stddev'), (106, 'audSpec_Rfilt_sma_de[18]_amean'), (107, 'pcm_fftMag_spectralSlope_sma_stddev'), (108, 'logHNR_sma_de_amean'), (109, 'pcm_fftMag_mfcc_sma_de[7]_stddev'), (110, 'audspecRasta_lengthL1norm_sma_stddev'), (111, 'audSpec_Rfilt_sma_de[4]_amean'), (112, 'pcm_zcr_sma_de_stddev'), (113, 'jitterDDP_sma_amean'), (114, 'pcm_fftMag_mfcc_sma[11]_stddev'), (115, 'pcm_fftMag_mfcc_sma_de[13]_stddev'), (116, 'pcm_fftMag_mfcc_sma_de[9]_amean'), (117, 'pcm_fftMag_spectralFlux_sma_amean'), (118, 'audSpec_Rfilt_sma[2]_stddev'), (119, 'pcm_fftMag_mfcc_sma_de[13]_amean'), (120, 'audSpec_Rfilt_sma_de[19]_stddev'), (121, 'audSpec_Rfilt_sma[3]_stddev'), (122, 'audSpec_Rfilt_sma_de[1]_stddev'), (123, 'pcm_fftMag_spectralRollOff75.0_sma_stddev'), (124, 'F0final_sma_stddev'), (125, 'audSpec_Rfilt_sma[16]_stddev'), (126, 'pcm_fftMag_mfcc_sma[2]_amean'), (127, 'audSpec_Rfilt_sma_de[12]_amean'), (128, 'audSpec_Rfilt_sma_de[11]_amean'), (129, 'pcm_fftMag_mfcc_sma[5]_amean'), (130, 'pcm_fftMag_spectralRollOff90.0_sma_amean'), (131, 'pcm_fftMag_spectralRollOff50.0_sma_stddev'), (132, 'audSpec_Rfilt_sma_de[22]_stddev'), (133, 'pcm_fftMag_psySharpness_sma_stddev'), (134, 'pcm_fftMag_fband250-650_sma_stddev'), (135, 'voicingFinalUnclipped_sma_stddev'), (136, 'audSpec_Rfilt_sma_de[23]_stddev'), (137, 'pcm_fftMag_spectralCentroid_sma_stddev'), (138, 'audSpec_Rfilt_sma_de[9]_amean'), (139, 'pcm_fftMag_spectralHarmonicity_sma_de_amean'), (140, 'audSpec_Rfilt_sma[21]_amean'), (141, 'pcm_fftMag_spectralVariance_sma_amean'), (142, 'pcm_fftMag_mfcc_sma_de[3]_stddev'), (143, 'audSpec_Rfilt_sma[22]_amean'), (144, 'pcm_fftMag_spectralRollOff25.0_sma_stddev'), (145, 'audSpec_Rfilt_sma[15]_stddev'), (146, 'audSpec_Rfilt_sma[25]_amean'), (147, 'F0final_sma_de_stddev'), (148, 'pcm_fftMag_fband250-650_sma_amean'), (149, 'audSpec_Rfilt_sma_de[19]_amean'), (150, 'audSpec_Rfilt_sma_de[18]_stddev'), (151, 'audSpec_Rfilt_sma_de[12]_stddev'), (152, 'audSpec_Rfilt_sma[24]_amean'), (153, 'audSpec_Rfilt_sma[2]_amean'), (154, 'pcm_fftMag_mfcc_sma[3]_amean'), (155, 'audSpec_Rfilt_sma[23]_amean'), (156, 'pcm_fftMag_mfcc_sma[4]_stddev'), (157, 'audSpec_Rfilt_sma[19]_amean'), (158, 'pcm_fftMag_spectralCentroid_sma_amean'), (159, 'pcm_fftMag_mfcc_sma[8]_stddev'), (160, 'pcm_fftMag_spectralHarmonicity_sma_stddev'), (161, 'pcm_fftMag_mfcc_sma[9]_stddev'), (162, 'audSpec_Rfilt_sma_de[0]_stddev'), (163, 'audSpec_Rfilt_sma_de[24]_stddev'), (164, 'pcm_fftMag_spectralRollOff90.0_sma_stddev'), (165, 'pcm_fftMag_mfcc_sma[2]_stddev'), (166, 'audSpec_Rfilt_sma[3]_amean'), (167, 'pcm_fftMag_spectralSkewness_sma_amean'), (168, 'pcm_fftMag_mfcc_sma_de[14]_stddev'), (169, 'audSpec_Rfilt_sma[18]_amean'), (170, 'audSpec_Rfilt_sma_de[25]_stddev'), (171, 'audSpec_Rfilt_sma[1]_stddev'), (172, 'audSpec_Rfilt_sma_de[25]_amean'), (173, 'audSpec_Rfilt_sma_de[14]_stddev'), (174, 'pcm_fftMag_spectralKurtosis_sma_stddev'), (175, 'pcm_fftMag_spectralRollOff25.0_sma_amean'), (176, 'jitterLocal_sma_amean'), (177, 'audspecRasta_lengthL1norm_sma_de_amean'), (178, 'audSpec_Rfilt_sma_de[24]_amean'), (179, 'pcm_fftMag_spectralVariance_sma_de_amean'), (180, 'pcm_fftMag_mfcc_sma_de[12]_amean'), (181, 'audSpec_Rfilt_sma[1]_amean'), (182, 'pcm_fftMag_spectralVariance_sma_de_stddev'), (183, 'audSpec_Rfilt_sma_de[11]_stddev'), (184, 'audSpec_Rfilt_sma_de[20]_stddev'), (185, 'audspec_lengthL1norm_sma_de_stddev'), (186, 'audSpec_Rfilt_sma[0]_amean'), (187, 'audSpec_Rfilt_sma_de[4]_stddev'), (188, 'pcm_fftMag_spectralKurtosis_sma_amean'), (189, 'audSpec_Rfilt_sma[17]_amean'), (190, 'audSpec_Rfilt_sma[7]_stddev'), (191, 'audSpec_Rfilt_sma_de[7]_stddev'), (192, 'pcm_fftMag_spectralSkewness_sma_stddev'), (193, 'audSpec_Rfilt_sma_de[13]_stddev'), (194, 'audSpec_Rfilt_sma[10]_stddev'), (195, 'audSpec_Rfilt_sma_de[9]_stddev'), (196, 'pcm_fftMag_mfcc_sma[6]_stddev'), (197, 'pcm_fftMag_mfcc_sma[7]_amean'), (198, 'audSpec_Rfilt_sma[0]_stddev'), (199, 'audSpec_Rfilt_sma_de[20]_amean'), (200, 'pcm_fftMag_mfcc_sma_de[12]_stddev'), (201, 'pcm_fftMag_mfcc_sma[13]_stddev'), (202, 'audSpec_Rfilt_sma_de[5]_amean'), (203, 'pcm_fftMag_spectralKurtosis_sma_de_stddev'), (204, 'audSpec_Rfilt_sma_de[14]_amean'), (205, 'audSpec_Rfilt_sma_de[17]_stddev'), (206, 'pcm_fftMag_mfcc_sma[5]_stddev'), (207, 'audSpec_Rfilt_sma[11]_amean'), (208, 'pcm_fftMag_spectralRollOff75.0_sma_amean'), (209, 'audSpec_Rfilt_sma[20]_amean'), (210, 'audSpec_Rfilt_sma[6]_stddev'), (211, 'pcm_zcr_sma_stddev'), (212, 'audSpec_Rfilt_sma[5]_stddev'), (213, 'audSpec_Rfilt_sma_de[6]_stddev'), (214, 'voicingFinalUnclipped_sma_de_amean'), (215, 'audSpec_Rfilt_sma[7]_amean'), (216, 'pcm_fftMag_spectralEntropy_sma_amean'), (217, 'audSpec_Rfilt_sma[14]_amean'), (218, 'pcm_fftMag_fband1000-4000_sma_stddev'), (219, 'pcm_fftMag_mfcc_sma_de[1]_stddev'), (220, 'audSpec_Rfilt_sma[12]_amean'), (221, 'pcm_fftMag_spectralSkewness_sma_de_stddev'), (222, 'pcm_fftMag_psySharpness_sma_amean'), (223, 'jitterDDP_sma_de_amean'), (224, 'audspec_lengthL1norm_sma_de_amean'), (225, 'pcm_fftMag_mfcc_sma_de[1]_amean'), (226, 'audSpec_Rfilt_sma[4]_stddev'), (227, 'audSpec_Rfilt_sma[12]_stddev'), (228, 'audspecRasta_lengthL1norm_sma_de_stddev'), (229, 'audSpec_Rfilt_sma[9]_stddev'), (230, 'audSpec_Rfilt_sma_de[8]_stddev'), (231, 'audSpec_Rfilt_sma_de[16]_stddev'), (232, 'audSpec_Rfilt_sma_de[10]_stddev'), (233, 'audSpec_Rfilt_sma[15]_amean'), (234, 'audSpec_Rfilt_sma_de[10]_amean'), (235, 'audSpec_Rfilt_sma_de[15]_stddev'), (236, 'audSpec_Rfilt_sma[13]_amean'), (237, 'pcm_fftMag_spectralSlope_sma_amean'), (238, 'pcm_fftMag_fband1000-4000_sma_de_stddev'), (239, 'audSpec_Rfilt_sma[16]_amean'), (240, 'audSpec_Rfilt_sma[5]_amean'), (241, 'audSpec_Rfilt_sma[6]_amean'), (242, 'audspecRasta_lengthL1norm_sma_amean'), (243, 'pcm_zcr_sma_de_amean'), (244, 'audSpec_Rfilt_sma[11]_stddev'), (245, 'audSpec_Rfilt_sma[4]_amean'), (246, 'audSpec_Rfilt_sma_de[6]_amean'), (247, 'audSpec_Rfilt_sma_de[5]_stddev'), (248, 'audSpec_Rfilt_sma[13]_stddev'), (249, 'pcm_fftMag_spectralHarmonicity_sma_amean'), (250, 'audSpec_Rfilt_sma[8]_amean'), (251, 'audspec_lengthL1norm_sma_amean'), (252, 'audSpec_Rfilt_sma[8]_stddev'), (253, 'pcm_fftMag_spectralVariance_sma_stddev'), (254, 'audSpec_Rfilt_sma[10]_amean'), (255, 'pcm_fftMag_mfcc_sma[12]_stddev'), (256, 'pcm_fftMag_fband1000-4000_sma_amean'), (257, 'audSpec_Rfilt_sma[14]_stddev'), (258, 'audSpec_Rfilt_sma[9]_amean'), (259, 'pcm_RMSenergy_sma_amean'), (260, 'pcm_fftMag_spectralRollOff50.0_sma_amean')]\n"
     ]
    }
   ],
   "source": [
    "import matplotlib.pyplot as plt\n",
    "import pandas as pd\n",
    "\n",
    "from sklearn.feature_selection import RFE\n",
    "from sklearn.model_selection import train_test_split\n",
    "from sklearn.ensemble import RandomForestRegressor\n",
    "from rfpimp import *\n",
    "from sklearn.svm import SVR\n",
    "from sklearn.model_selection import StratifiedKFold\n",
    "\n",
    "PATH_DATA_SET = 'D:/dev/honours-project-v2/dataset/dataset_nor_zsocre.csv'\n",
    "dataset = pd.read_csv(PATH_DATA_SET)\n",
    "data_x = dataset.loc[0:10,'F0final_sma_stddev':'pcm_fftMag_mfcc_sma_de[14]_amean']\n",
    "data_valance_y = dataset.loc[0:10,'v']\n",
    "data_arousal_y = dataset.loc[:,'a']\n",
    "\n",
    "#train_x, test_x, train_y, test_y = train_test_split(data_x, data_valance_y, test_size=0.20, shuffle=True)\n",
    "\n",
    "#SVR Regressor\n",
    "svr = SVR(kernel=\"linear\")\n",
    "#svr.fit(data_x,data_valance_y)\n",
    "\n",
    "rfe = RFE(svr, n_features_to_select=1)\n",
    "rfe.fit(data_x, data_valance_y)    \n",
    "\n",
    "print(\"Optimal number of features : %d\" % rfe.n_features_)\n",
    "\n",
    "print(rfe.support_)\n",
    "print(rfe.ranking_)\n",
    "print (\"Features sorted by their rank:\")\n",
    "print (sorted(zip(map(lambda x: round(x, 4), rfe.ranking_), data_x)))\n",
    "# Plot pixel ranking\n",
    "# plt.matshow(ranking, cmap=plt.cm.Blues)\n",
    "# plt.colorbar()\n",
    "# plt.title(\"Ranking of pixels with RFE\")\n",
    "# plt.show()\n"
   ]
  },
  {
   "cell_type": "code",
   "execution_count": null,
   "metadata": {},
   "outputs": [],
   "source": []
  },
  {
   "cell_type": "code",
   "execution_count": null,
   "metadata": {},
   "outputs": [],
   "source": []
  },
  {
   "cell_type": "code",
   "execution_count": null,
   "metadata": {},
   "outputs": [],
   "source": []
  },
  {
   "cell_type": "code",
   "execution_count": null,
   "metadata": {},
   "outputs": [],
   "source": []
  },
  {
   "cell_type": "code",
   "execution_count": null,
   "metadata": {},
   "outputs": [],
   "source": []
  },
  {
   "cell_type": "code",
   "execution_count": null,
   "metadata": {},
   "outputs": [],
   "source": []
  }
 ],
 "metadata": {
  "kernelspec": {
   "display_name": "Python 3",
   "language": "python",
   "name": "python3"
  },
  "language_info": {
   "codemirror_mode": {
    "name": "ipython",
    "version": 3
   },
   "file_extension": ".py",
   "mimetype": "text/x-python",
   "name": "python",
   "nbconvert_exporter": "python",
   "pygments_lexer": "ipython3",
   "version": "3.7.4"
  }
 },
 "nbformat": 4,
 "nbformat_minor": 2
}
